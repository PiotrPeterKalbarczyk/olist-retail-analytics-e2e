{
 "cells": [
  {
   "cell_type": "markdown",
   "id": "d97b9f4b",
   "metadata": {
    "vscode": {
     "languageId": "plaintext"
    }
   },
   "source": [
    "Co notować przy KAŻDEJ tabeli (Twoja checklista)\n",
    "\n",
    "Rola: fact / dimension / referencyjna.\n",
    "\n",
    "Grain (hipoteza).\n",
    "\n",
    "Kandydat PK (natural key lub złożony) + sprawdzenie distinct.\n",
    "\n",
    "FK spójność: ile orphans do rodzica (liczba i %).\n",
    "\n",
    "NULL-rate w kluczach (ID, FK).\n",
    "\n",
    "Daty: min/max; prosta logika kolejności (jeśli ma sens).\n",
    "\n",
    "Liczbowe sanity: wartości ≤ 0 tam, gdzie nie powinno.\n",
    "\n",
    "Kategoryczne: kardynalność, top wartości (opcjonalnie).\n",
    "\n",
    "Decyzje do core:\n",
    "\n",
    "finalny grain i PK (w fact złożony albo fact_sk),\n",
    "\n",
    "business key w dimension + surrogate key *_sk,\n",
    "\n",
    "polityka orphans (drop vs unknown),\n",
    "\n",
    "co z duplikatami (deduplikacja/agregacja/reguła wyboru)."
   ]
  },
  {
   "cell_type": "markdown",
   "id": "1f12f12a",
   "metadata": {},
   "source": [
    "**TABLE :** df_customers  \n",
    "**ROLE :**  dimentiona   \n",
    "**GRAIN :**  1 row = 1 customer  \n",
    "**PK CANDIDATE :**  customer_id, customer_unique_id  \n",
    "*no null, unique, no duplicated,  non-changable*  \n",
    "**FK CANDIDATE :** (df_geolocation.geolocation_zip_code_prefix)  \n",
    "*no null, unique*  \n",
    "**DISTINCT :** customer_id  \n",
    "**NULLS :** none  \n",
    "\n",
    "'customer_id',            PK, no null, no duplicated\n",
    "'customer_unique_id',  no null, not no duplicated\n",
    "'customer_zip_code_prefix', FK (df_geolocation.geolocation_zip_code_prefix)?\n",
    "'customer_city',\n",
    "'customer_state'"
   ]
  },
  {
   "cell_type": "markdown",
   "id": "17ab5796",
   "metadata": {},
   "source": [
    "\n",
    "df_geolocation\n",
    "\n",
    "'geolocation_zip_code_prefix', PK?, no null, 981148 duplicates\n",
    "'geolocation_lat',\n",
    "'geolocation_lng',\n",
    "'geolocation_city',\n",
    "'geolocation_state'"
   ]
  },
  {
   "cell_type": "markdown",
   "id": "79647f01",
   "metadata": {},
   "source": [
    "\n",
    "df_order_items  all no nulls but all duplicated\n",
    "\n",
    "'order_id',   FK\n",
    "'order_item_id',    FK\n",
    "'product_id',   FK\n",
    "'seller_id',  FK\n",
    "'shipping_limit_date',\n",
    "'price',\n",
    "'freight_value'"
   ]
  },
  {
   "cell_type": "markdown",
   "id": "2e5a22aa",
   "metadata": {},
   "source": [
    "\n",
    "df_order_payments all no nulls but all duplicated\n",
    "\n",
    "'order_id',   \n",
    "'payment_sequential',\n",
    "'payment_type',\n",
    "'payment_installments',\n",
    "'payment_value'"
   ]
  },
  {
   "cell_type": "markdown",
   "id": "a1dab567",
   "metadata": {},
   "source": [
    "\n",
    "df_order_reviews\n",
    "\n",
    "'review_id',  no null, duplicated  PK?\n",
    "'order_id', no null, duplicated  FK\n",
    "'review_score',\n",
    "'review_comment_title',\n",
    "'review_comment_message',\n",
    "'review_creation_date',\n",
    "'review_answer_timestamp'"
   ]
  },
  {
   "cell_type": "markdown",
   "id": "6f7141f0",
   "metadata": {},
   "source": [
    "\n",
    "df_orders  jeden wiersz = jedno zamówienie.\n",
    "\n",
    " 'order_id', no null, no duplicated, PK\n",
    " 'customer_id', FK, no null, no duplicated\n",
    " 'order_status',\n",
    " 'order_purchase_timestamp',\n",
    " 'order_approved_at',\n",
    " 'order_delivered_carrier_date',\n",
    " 'order_delivered_customer_date',\n",
    " 'order_estimated_delivery_date'"
   ]
  },
  {
   "cell_type": "markdown",
   "id": "680e0fe4",
   "metadata": {},
   "source": [
    "\n",
    "df_products \n",
    "\n",
    " 'product_id', no null, no duplicated, PK\n",
    " 'product_category_name',\n",
    " 'product_name_lenght',\n",
    " 'product_description_lenght',\n",
    " 'product_photos_qty',\n",
    " 'product_weight_g',\n",
    " 'product_length_cm',\n",
    " 'product_height_cm',\n",
    " 'product_width_cm'"
   ]
  },
  {
   "cell_type": "markdown",
   "id": "74cc3cb0",
   "metadata": {},
   "source": [
    "\n",
    "df_sellers\n",
    "\n",
    "'seller_id',   PK, no null, no duplicated\n",
    "'seller_zip_code_prefix', FK?, no null, duplicated\n",
    "'seller_city', \n",
    "'seller_state'"
   ]
  },
  {
   "cell_type": "markdown",
   "id": "4ef8c9fc",
   "metadata": {},
   "source": [
    "\n",
    "df_product_category_names_translation all no null and no duplicated\n",
    "\n",
    "product_category_name       \n",
    "product_category_name_english "
   ]
  },
  {
   "cell_type": "markdown",
   "id": "8f4ee72d",
   "metadata": {},
   "source": [
    "---"
   ]
  },
  {
   "cell_type": "markdown",
   "id": "7f68c7a3",
   "metadata": {},
   "source": [
    "df_customers (PK - customer_id)"
   ]
  }
 ],
 "metadata": {
  "language_info": {
   "name": "python"
  }
 },
 "nbformat": 4,
 "nbformat_minor": 5
}
