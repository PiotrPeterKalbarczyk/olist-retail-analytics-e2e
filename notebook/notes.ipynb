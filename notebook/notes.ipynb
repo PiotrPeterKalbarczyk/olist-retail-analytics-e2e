{
 "cells": [
  {
   "cell_type": "markdown",
   "id": "1f12f12a",
   "metadata": {},
   "source": [
    "df_customers\n"
   ]
  },
  {
   "cell_type": "markdown",
   "id": "17ab5796",
   "metadata": {},
   "source": [
    "\n",
    "df_geolocation\n"
   ]
  },
  {
   "cell_type": "markdown",
   "id": "79647f01",
   "metadata": {},
   "source": [
    "\n",
    "df_order_items\n"
   ]
  },
  {
   "cell_type": "markdown",
   "id": "2e5a22aa",
   "metadata": {},
   "source": [
    "\n",
    "df_order_payments\n"
   ]
  },
  {
   "cell_type": "markdown",
   "id": "a1dab567",
   "metadata": {},
   "source": [
    "\n",
    "df_order_reviews\n"
   ]
  },
  {
   "cell_type": "markdown",
   "id": "6f7141f0",
   "metadata": {},
   "source": [
    "\n",
    "df_orders \n"
   ]
  },
  {
   "cell_type": "markdown",
   "id": "680e0fe4",
   "metadata": {},
   "source": [
    "\n",
    "df_products \n"
   ]
  },
  {
   "cell_type": "markdown",
   "id": "74cc3cb0",
   "metadata": {},
   "source": [
    "\n",
    "df_sellers\n"
   ]
  },
  {
   "cell_type": "markdown",
   "id": "4ef8c9fc",
   "metadata": {},
   "source": [
    "\n",
    "df_product_category_names_translation \n"
   ]
  }
 ],
 "metadata": {
  "language_info": {
   "name": "python"
  }
 },
 "nbformat": 4,
 "nbformat_minor": 5
}
