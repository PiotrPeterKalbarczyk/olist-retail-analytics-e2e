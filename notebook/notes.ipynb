{
 "cells": [
  {
   "cell_type": "markdown",
   "id": "2fde1a92",
   "metadata": {},
   "source": [
    "**TABLE :**   \n",
    "**ROWS :**   \n",
    "**GRAIN CANDIDATE :**  \n",
    "**PK CANDIDATE :**  \n",
    "**FK CANDIDATE :** \n",
    "**DATES :**   \n",
    "**SANITY CHECK :** "
   ]
  },
  {
   "cell_type": "markdown",
   "id": "641ecca7",
   "metadata": {},
   "source": [
    " df_customers  \n",
    "\n",
    "'customer_id',            \n",
    "'customer_unique_id',  \n",
    "'customer_zip_code_prefix',  \n",
    "'customer_city',  \n",
    "'customer_state'  "
   ]
  },
  {
   "cell_type": "markdown",
   "id": "49d8cf5f",
   "metadata": {},
   "source": [
    "**TABLE :** df_customers  \n",
    "**ROWS :**  99441  \n",
    "**GRAIN CANDIDATE :**  1 row = 1 customer  \n",
    "**PK CANDIDATE :**  \n",
    "customer_id OK   \n",
    "customer_unique_id  NOT OK (duplicates)  \n",
    "**FK CANDIDATE :** *czy moze byc customer_zip_code_prefix = df_geolocation.geolocation_zip_code_prefix?*  \n",
    "**DATES :**  -  \n",
    "**SANITY CHECK :** *jakie sanity check pasowaloby tutaj? sprawdzenie czy wszystkie customer state sa tego samego formaty? np NY a nie NY ny i NewYour?*"
   ]
  },
  {
   "cell_type": "markdown",
   "id": "17ab5796",
   "metadata": {},
   "source": [
    "\n",
    "df_geolocation\n",
    "\n",
    "'geolocation_zip_code_prefix'  \n",
    "'geolocation_lat',  \n",
    "'geolocation_lng',  \n",
    "'geolocation_city',  \n",
    "'geolocation_state'  "
   ]
  },
  {
   "cell_type": "markdown",
   "id": "0a72eaa1",
   "metadata": {},
   "source": [
    "**TABLE :** df_geolocation  \n",
    "**ROWS :**  1000163  \n",
    "**GRAIN CANDIDATE :**  1 row = 1 zip code\n",
    "**PK CANDIDATE :**  zip code poprawianie\n",
    "**FK CANDIDATE :** none  \n",
    "**DATES :**   none  \n",
    "**SANITY CHECK :** *jakie sanity check pasowaloby tutaj? sprawdzenie czy wszystkie customer state sa tego samego formaty? np NY a nie NY ny i NewYour?*"
   ]
  },
  {
   "cell_type": "markdown",
   "id": "79647f01",
   "metadata": {},
   "source": [
    "\n",
    "df_order_items  \n",
    "\n",
    "'order_id',   \n",
    "'order_item_id',    \n",
    "'product_id',  \n",
    "'seller_id',  \n",
    "'shipping_limit_date',\n",
    "'price',\n",
    "'freight_value'"
   ]
  },
  {
   "cell_type": "markdown",
   "id": "900458e2",
   "metadata": {},
   "source": [
    "**TABLE :**   df_order_items  \n",
    "**ROWS :**   112650  \n",
    "**GRAIN CANDIDATE :**  1 row = 1 order-order_item  \n",
    "**PK CANDIDATE :**  order_item_id  OK  \n",
    "**FK CANDIDATE :**  order_id OK, product_id OK, seller_id  OK  \n",
    "**DATES :**   min 2016 max 2020  \n",
    "**SANITY CHECK :** price < 0 and freight_value <0  "
   ]
  },
  {
   "cell_type": "markdown",
   "id": "2e5a22aa",
   "metadata": {},
   "source": [
    "\n",
    "df_order_payments \n",
    "\n",
    "'order_id',   \n",
    "'payment_sequential',  \n",
    "'payment_type',  \n",
    "'payment_installments',  \n",
    "'payment_value'"
   ]
  },
  {
   "cell_type": "markdown",
   "id": "50031a90",
   "metadata": {},
   "source": [
    "**TABLE :**   df_order_payments  \n",
    "**ROWS :**  103885  \n",
    "**GRAIN CANDIDATE :**  1 row = 1 order-payment \n",
    "**PK CANDIDATE :**  order_id, payment_sequential OK \n",
    "**FK CANDIDATE :**  none  \n",
    "**DATES :**   none  \n",
    "**SANITY CHECK :** payment_value < 0 "
   ]
  },
  {
   "cell_type": "markdown",
   "id": "a1dab567",
   "metadata": {},
   "source": [
    "df_order_reviews\n",
    "\n",
    "'review_id', \n",
    "'order_id',  \n",
    "'review_score',  \n",
    "'review_comment_title',  \n",
    "'review_comment_message',  \n",
    "'review_creation_date',  \n",
    "'review_answer_timestamp'  "
   ]
  },
  {
   "cell_type": "markdown",
   "id": "07f54778",
   "metadata": {},
   "source": [
    "**TABLE :**   df_order_reviews  \n",
    "**ROWS :**   99224  \n",
    "**GRAIN CANDIDATE :** 1 row = 1 review   \n",
    "**PK CANDIDATE :**  review_id  NOT OK duplicated  \n",
    "**FK CANDIDATE :**  order_id OK   \n",
    "**DATES :**   2016-2018 wiec nie ma od 2018-2020 reviews ale sa z tej daty zamowienia  \n",
    "**SANITY CHECK :**  none  "
   ]
  },
  {
   "cell_type": "markdown",
   "id": "6f7141f0",
   "metadata": {},
   "source": [
    "\n",
    "df_orders \n",
    "\n",
    " 'order_id',\n",
    " 'customer_id', \n",
    " 'order_status',\n",
    " 'order_purchase_timestamp',\n",
    " 'order_approved_at',\n",
    " 'order_delivered_carrier_date',\n",
    " 'order_delivered_customer_date',\n",
    " 'order_estimated_delivery_date'"
   ]
  },
  {
   "cell_type": "markdown",
   "id": "43f51400",
   "metadata": {},
   "source": [
    "**TABLE :**   df_orders  \n",
    "**ROWS :**   99441  \n",
    "**GRAIN CANDIDATE :**  1 row = 1 order  \n",
    "**PK CANDIDATE :**  order_id OK  \n",
    "**FK CANDIDATE :**  customer_id OK  \n",
    "**DATES :**   wszystkie daty 2016-2018  \n",
    "**SANITY CHECK :**    "
   ]
  },
  {
   "cell_type": "markdown",
   "id": "680e0fe4",
   "metadata": {},
   "source": [
    "\n",
    "df_products \n",
    "\n",
    " 'product_id', \n",
    " 'product_category_name',\n",
    " 'product_name_lenght',\n",
    " 'product_description_lenght',\n",
    " 'product_photos_qty',\n",
    " 'product_weight_g',\n",
    " 'product_length_cm',\n",
    " 'product_height_cm',\n",
    " 'product_width_cm'"
   ]
  },
  {
   "cell_type": "markdown",
   "id": "a704d96f",
   "metadata": {},
   "source": [
    "**TABLE :** df_products  \n",
    "**ROWS :**   32951  \n",
    "**GRAIN CANDIDATE :**  1 row = 1 products  \n",
    "**PK CANDIDATE :**  product_id OK  \n",
    "**FK CANDIDATE :** none  \n",
    "**DATES :**   none  \n",
    "**SANITY CHECK :**  ('product_weight_g',\n",
    " 'product_length_cm',\n",
    " 'product_height_cm',\n",
    " 'product_width_cm') all < 0"
   ]
  },
  {
   "cell_type": "markdown",
   "id": "74cc3cb0",
   "metadata": {},
   "source": [
    "\n",
    "df_sellers\n",
    "\n",
    "'seller_id',   \n",
    "'seller_zip_code_prefix',  \n",
    "'seller_city',  \n",
    "'seller_state'"
   ]
  },
  {
   "cell_type": "markdown",
   "id": "05c3479e",
   "metadata": {},
   "source": [
    "\n",
    "**TABLE :** df_sellers  \n",
    "**ROWS :**  3095  \n",
    "**GRAIN CANDIDATE :**  1 row = 1 seller  \n",
    "**PK CANDIDATE :**  seller_id OK  \n",
    "**FK CANDIDATE :** *czy moze byc customer_zip_code_prefix = df_geolocation.geolocation_zip_code_prefix?*    \n",
    "**DATES :**   none  \n",
    "**SANITY CHECK :** none  \n",
    " "
   ]
  },
  {
   "cell_type": "markdown",
   "id": "4ef8c9fc",
   "metadata": {},
   "source": [
    "\n",
    "df_product_category_names_translation \n",
    "\n",
    "product_category_name       \n",
    "product_category_name_english "
   ]
  },
  {
   "cell_type": "markdown",
   "id": "e678c27b",
   "metadata": {},
   "source": [
    "**TABLE :**  df_product_category_names_translation  \n",
    "**ROWS :**   71  \n",
    "**GRAIN CANDIDATE :**  1 row = 1 row cathegory  \n",
    "**PK CANDIDATE :**  product_category_name OK  \n",
    "**FK CANDIDATE :**  none  \n",
    "**DATES :**   none  \n",
    "**SANITY CHECK :** none  "
   ]
  },
  {
   "cell_type": "markdown",
   "id": "8f4ee72d",
   "metadata": {},
   "source": [
    "---"
   ]
  }
 ],
 "metadata": {
  "kernelspec": {
   "display_name": "base",
   "language": "python",
   "name": "python3"
  },
  "language_info": {
   "name": "python",
   "version": "3.12.3"
  }
 },
 "nbformat": 4,
 "nbformat_minor": 5
}
